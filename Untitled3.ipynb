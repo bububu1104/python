{
 "cells": [
  {
   "cell_type": "code",
   "execution_count": 10,
   "id": "expensive-painting",
   "metadata": {},
   "outputs": [],
   "source": [
    "import pandas as pd\n",
    "import numpy as np"
   ]
  },
  {
   "cell_type": "code",
   "execution_count": 51,
   "id": "innovative-vacation",
   "metadata": {},
   "outputs": [
    {
     "name": "stdout",
     "output_type": "stream",
     "text": [
      "  出張先\n",
      "0  千歳\n",
      "1  美唄\n",
      "2  滝川\n",
      "3  室蘭\n",
      "4  八雲\n",
      "  2021年4月出張予定表（0308）第1版 Unnamed: 1 Unnamed: 2 Unnamed: 3 Unnamed: 4  \\\n",
      "2                   NaN        NaN        氏家英         夏賀         岩田   \n",
      "3                 43922          木        総回診         乾癬         乾癬   \n",
      "4                 43923          金        NaN         EB         室蘭   \n",
      "5                 43924          土        NaN        NaN        NaN   \n",
      "6                 43925          日        NaN        NaN        NaN   \n",
      "\n",
      "  Unnamed: 5 Unnamed: 6 Unnamed: 7 Unnamed: 8  Unnamed: 9  ... Unnamed: 50  \\\n",
      "2          柳          泉         北村         宮内         NaN  ...         NaN   \n",
      "3   皮膚外科・総回診        恵み野       皮膚外科        NaN         NaN  ...         NaN   \n",
      "4         1診        NaN         三愛        苫小牧         NaN  ...         NaN   \n",
      "5        NaN        NaN        NaN        NaN         NaN  ...         NaN   \n",
      "6        NaN        NaN        NaN        NaN         NaN  ...         NaN   \n",
      "\n",
      "  Unnamed: 51 Unnamed: 52 Unnamed: 53 Unnamed: 54 Unnamed: 55 Unnamed: 56  \\\n",
      "2         NaN         NaN         NaN         NaN         NaN         NaN   \n",
      "3         NaN         NaN         NaN         NaN         NaN         NaN   \n",
      "4         NaN         NaN         NaN         NaN         NaN         NaN   \n",
      "5         NaN         NaN         NaN         NaN         NaN         NaN   \n",
      "6         NaN         NaN         NaN         NaN         NaN         NaN   \n",
      "\n",
      "  Unnamed: 57 Unnamed: 58 Unnamed: 59  \n",
      "2         NaN         NaN         NaN  \n",
      "3         NaN         NaN         NaN  \n",
      "4         NaN         NaN         NaN  \n",
      "5         NaN         NaN         NaN  \n",
      "6         NaN         NaN         NaN  \n",
      "\n",
      "[5 rows x 60 columns]\n"
     ]
    }
   ],
   "source": [
    "# excel読み込み\n",
    "schedule = pd.read_excel('/Users/maiyousuke/Documents/Python/2021_4.xlsx')\n",
    "hospital = pd.read_excel('/Users/maiyousuke/Documents/Python/Hospital_list.xlsx')\n",
    "print(hospital.head())\n",
    "\n",
    "# 名前の行まで削除\n",
    "schedule = schedule[2:]\n",
    "print(schedule.head())"
   ]
  },
  {
   "cell_type": "code",
   "execution_count": 48,
   "id": "sustained-breach",
   "metadata": {},
   "outputs": [
    {
     "name": "stdout",
     "output_type": "stream",
     "text": [
      "[nan, nan, '氏家英', '夏賀', '岩田', '柳', '泉', '北村', '宮内', nan, '今福', '葭本', '宮澤', '小住', '眞井洋', '瀬尾', '小川', '木村', '田中', '長谷', '平野', '山賀', '劉', '得地', '眞井翔', '椎谷', '野原', nan, '板本', '豊島', '氏家韻', '辻脇', '剱持', nan, nan, nan, nan, nan, nan, nan, nan, nan, nan, nan, nan, nan, nan, nan, nan, nan, nan, nan, nan, nan, nan, nan, nan, nan, nan, nan]\n",
      "       NaN  NaN        氏家英              夏賀          岩田         柳           泉  \\\n",
      "NaN    NaN  NaN        氏家英              夏賀          岩田         柳           泉   \n",
      "NaN  43922    木        総回診              乾癬          乾癬  皮膚外科・総回診         恵み野   \n",
      "氏家英  43923    金        NaN              EB          室蘭        1診         NaN   \n",
      "夏賀   43924    土        NaN             NaN         NaN       NaN         NaN   \n",
      "岩田   43925    日        NaN             NaN         NaN       NaN         NaN   \n",
      "柳    43926    月         1診              室蘭         NaN       苫小牧          4診   \n",
      "泉    43927    火        水疱症              江別          1診       NaN        学生実習   \n",
      "北村   43928    水        NaN              1診         NaN      学生実習        アトピー   \n",
      "宮内   43929    木  総回診\\n学生実習              乾癬          乾癬  皮膚外科・総回診         NaN   \n",
      "NaN  43930    金        NaN             苫小牧          室蘭        4診          1診   \n",
      "今福   43931    土       歓送迎会            歓送迎会        歓送迎会      歓送迎会        歓送迎会   \n",
      "葭本   43932    日        NaN             NaN         NaN       NaN         NaN   \n",
      "宮澤   43933    月         1診             苫小牧          休暇        室蘭        学生担当   \n",
      "小住   43934    火        NaN            学生実習          1診       NaN         水疱症   \n",
      "眞井洋  43935    水       アトピー              1診         NaN       NaN         NaN   \n",
      "瀬尾   43936    木  総回診\\n学生実習              乾癬          乾癬  皮膚外科・総回診         恵み野   \n",
      "小川   43937    金        苫小牧              EB         NaN        1診        学生担当   \n",
      "木村   43938    土        NaN             NaN         NaN       NaN         NaN   \n",
      "田中   43939    日        NaN             NaN         NaN       NaN         NaN   \n",
      "長谷   43940    月         1診              室蘭          滝川       苫小牧          4診   \n",
      "平野   43941    火        NaN            学生実習          1診        江別         水疱症   \n",
      "山賀   43942    水       アトピー              1診         NaN      学生実習         NaN   \n",
      "劉    43943    木  総回診\\n学生実習              乾癬          乾癬  皮膚外科・総回診         恵み野   \n",
      "得地   43944    金         室蘭             NaN         苫小牧        4診          1診   \n",
      "眞井翔  43945    土        NaN             NaN         NaN       NaN         NaN   \n",
      "椎谷   43946    日        NaN             NaN         NaN       NaN         NaN   \n",
      "野原   43947    月         1診  学生担当3Fラボミーティング  3Fラボミーティング        室蘭  3Fラボミーティング   \n",
      "NaN  43948    火        水疱症            学生実習          1診       NaN          江別   \n",
      "板本   43949    水        NaN              1診        学生実習       NaN        アトピー   \n",
      "豊島   43950    木        NaN             NaN         NaN       NaN         NaN   \n",
      "氏家韻  43951    金        NaN            学生担当         苫小牧        1診          室蘭   \n",
      "辻脇   43952    土        NaN             NaN         NaN       NaN         NaN   \n",
      "剱持   43953    日        NaN             NaN         NaN       NaN         NaN   \n",
      "NaN    NaN  NaN        NaN             NaN         NaN       NaN         NaN   \n",
      "\n",
      "            北村         宮内 NaN  ... NaN NaN NaN NaN NaN NaN NaN NaN NaN NaN  \n",
      "NaN         北村         宮内 NaN  ... NaN NaN NaN NaN NaN NaN NaN NaN NaN NaN  \n",
      "NaN       皮膚外科        NaN NaN  ... NaN NaN NaN NaN NaN NaN NaN NaN NaN NaN  \n",
      "氏家英         三愛        苫小牧 NaN  ... NaN NaN NaN NaN NaN NaN NaN NaN NaN NaN  \n",
      "夏賀         NaN        NaN NaN  ... NaN NaN NaN NaN NaN NaN NaN NaN NaN NaN  \n",
      "岩田         NaN        NaN NaN  ... NaN NaN NaN NaN NaN NaN NaN NaN NaN NaN  \n",
      "柳          NaN  1診b\\n学生担当 NaN  ... NaN NaN NaN NaN NaN NaN NaN NaN NaN NaN  \n",
      "泉          1診b         4診 NaN  ... NaN NaN NaN NaN NaN NaN NaN NaN NaN NaN  \n",
      "北村          手術        NaN NaN  ... NaN NaN NaN NaN NaN NaN NaN NaN NaN NaN  \n",
      "宮内        皮膚外科        恵み野 NaN  ... NaN NaN NaN NaN NaN NaN NaN NaN NaN NaN  \n",
      "NaN         三愛  魚鱗癬\\n学生担当 NaN  ... NaN NaN NaN NaN NaN NaN NaN NaN NaN NaN  \n",
      "今福        歓送迎会       歓送迎会 NaN  ... NaN NaN NaN NaN NaN NaN NaN NaN NaN NaN  \n",
      "葭本         NaN        NaN NaN  ... NaN NaN NaN NaN NaN NaN NaN NaN NaN NaN  \n",
      "宮澤         NaN        1診b NaN  ... NaN NaN NaN NaN NaN NaN NaN NaN NaN NaN  \n",
      "小住         1診b         4診 NaN  ... NaN NaN NaN NaN NaN NaN NaN NaN NaN NaN  \n",
      "眞井洋         手術       学生実習 NaN  ... NaN NaN NaN NaN NaN NaN NaN NaN NaN NaN  \n",
      "瀬尾        皮膚外科        NaN NaN  ... NaN NaN NaN NaN NaN NaN NaN NaN NaN NaN  \n",
      "小川          三愛         室蘭 NaN  ... NaN NaN NaN NaN NaN NaN NaN NaN NaN NaN  \n",
      "木村         NaN        NaN NaN  ... NaN NaN NaN NaN NaN NaN NaN NaN NaN NaN  \n",
      "田中         NaN        NaN NaN  ... NaN NaN NaN NaN NaN NaN NaN NaN NaN NaN  \n",
      "長谷        学生担当        1診b NaN  ... NaN NaN NaN NaN NaN NaN NaN NaN NaN NaN  \n",
      "平野         1診b         4診 NaN  ... NaN NaN NaN NaN NaN NaN NaN NaN NaN NaN  \n",
      "山賀          手術        NaN NaN  ... NaN NaN NaN NaN NaN NaN NaN NaN NaN NaN  \n",
      "劉    皮膚外科・学生担当         滝川 NaN  ... NaN NaN NaN NaN NaN NaN NaN NaN NaN NaN  \n",
      "得地          三愛        魚鱗癬 NaN  ... NaN NaN NaN NaN NaN NaN NaN NaN NaN NaN  \n",
      "眞井翔        NaN        NaN NaN  ... NaN NaN NaN NaN NaN NaN NaN NaN NaN NaN  \n",
      "椎谷         NaN        NaN NaN  ... NaN NaN NaN NaN NaN NaN NaN NaN NaN NaN  \n",
      "野原         NaN        1診b NaN  ... NaN NaN NaN NaN NaN NaN NaN NaN NaN NaN  \n",
      "NaN        1診b         4診 NaN  ... NaN NaN NaN NaN NaN NaN NaN NaN NaN NaN  \n",
      "板本          手術        苫小牧 NaN  ... NaN NaN NaN NaN NaN NaN NaN NaN NaN NaN  \n",
      "豊島         NaN        NaN NaN  ... NaN NaN NaN NaN NaN NaN NaN NaN NaN NaN  \n",
      "氏家韻        NaN        NaN NaN  ... NaN NaN NaN NaN NaN NaN NaN NaN NaN NaN  \n",
      "辻脇         NaN        NaN NaN  ... NaN NaN NaN NaN NaN NaN NaN NaN NaN NaN  \n",
      "剱持         NaN        NaN NaN  ... NaN NaN NaN NaN NaN NaN NaN NaN NaN NaN  \n",
      "NaN        NaN        NaN NaN  ... NaN NaN NaN NaN NaN NaN NaN NaN NaN NaN  \n",
      "\n",
      "[34 rows x 60 columns]\n",
      "       NaN NaN  氏家英   夏賀   岩田         柳    泉    北村         宮内 NaN  ... NaN  \\\n",
      "NaN  43922   木  総回診   乾癬   乾癬  皮膚外科・総回診  恵み野  皮膚外科        NaN NaN  ... NaN   \n",
      "氏家英  43923   金  NaN   EB   室蘭        1診  NaN    三愛        苫小牧 NaN  ... NaN   \n",
      "夏賀   43924   土  NaN  NaN  NaN       NaN  NaN   NaN        NaN NaN  ... NaN   \n",
      "岩田   43925   日  NaN  NaN  NaN       NaN  NaN   NaN        NaN NaN  ... NaN   \n",
      "柳    43926   月   1診   室蘭  NaN       苫小牧   4診   NaN  1診b\\n学生担当 NaN  ... NaN   \n",
      "\n",
      "    NaN NaN NaN NaN NaN NaN NaN NaN NaN  \n",
      "NaN NaN NaN NaN NaN NaN NaN NaN NaN NaN  \n",
      "氏家英 NaN NaN NaN NaN NaN NaN NaN NaN NaN  \n",
      "夏賀  NaN NaN NaN NaN NaN NaN NaN NaN NaN  \n",
      "岩田  NaN NaN NaN NaN NaN NaN NaN NaN NaN  \n",
      "柳   NaN NaN NaN NaN NaN NaN NaN NaN NaN  \n",
      "\n",
      "[5 rows x 60 columns]\n"
     ]
    }
   ],
   "source": [
    "# 医師の列をlist化\n",
    "pdseries = schedule.iloc[0]\n",
    "lst = pdseries.tolist()\n",
    "\n",
    "# Columnsを医師の名前に変更\n",
    "schedule.columns = lst\n",
    "\n",
    "# 重複している医師の行を削除\n",
    "schedule = schedule[1:]\n",
    "print(schedule.head())"
   ]
  },
  {
   "cell_type": "code",
   "execution_count": 56,
   "id": "specified-mongolia",
   "metadata": {},
   "outputs": [
    {
     "ename": "KeyError",
     "evalue": "'aa'",
     "output_type": "error",
     "traceback": [
      "\u001b[0;31m---------------------------------------------------------------------------\u001b[0m",
      "\u001b[0;31mKeyError\u001b[0m                                  Traceback (most recent call last)",
      "\u001b[0;32m~/opt/anaconda3/lib/python3.8/site-packages/pandas/core/indexes/base.py\u001b[0m in \u001b[0;36mget_loc\u001b[0;34m(self, key, method, tolerance)\u001b[0m\n\u001b[1;32m   3079\u001b[0m             \u001b[0;32mtry\u001b[0m\u001b[0;34m:\u001b[0m\u001b[0;34m\u001b[0m\u001b[0;34m\u001b[0m\u001b[0m\n\u001b[0;32m-> 3080\u001b[0;31m                 \u001b[0;32mreturn\u001b[0m \u001b[0mself\u001b[0m\u001b[0;34m.\u001b[0m\u001b[0m_engine\u001b[0m\u001b[0;34m.\u001b[0m\u001b[0mget_loc\u001b[0m\u001b[0;34m(\u001b[0m\u001b[0mcasted_key\u001b[0m\u001b[0;34m)\u001b[0m\u001b[0;34m\u001b[0m\u001b[0;34m\u001b[0m\u001b[0m\n\u001b[0m\u001b[1;32m   3081\u001b[0m             \u001b[0;32mexcept\u001b[0m \u001b[0mKeyError\u001b[0m \u001b[0;32mas\u001b[0m \u001b[0merr\u001b[0m\u001b[0;34m:\u001b[0m\u001b[0;34m\u001b[0m\u001b[0;34m\u001b[0m\u001b[0m\n",
      "\u001b[0;32mpandas/_libs/index.pyx\u001b[0m in \u001b[0;36mpandas._libs.index.IndexEngine.get_loc\u001b[0;34m()\u001b[0m\n",
      "\u001b[0;32mpandas/_libs/index.pyx\u001b[0m in \u001b[0;36mpandas._libs.index.IndexEngine.get_loc\u001b[0;34m()\u001b[0m\n",
      "\u001b[0;32mpandas/_libs/hashtable_class_helper.pxi\u001b[0m in \u001b[0;36mpandas._libs.hashtable.PyObjectHashTable.get_item\u001b[0;34m()\u001b[0m\n",
      "\u001b[0;32mpandas/_libs/hashtable_class_helper.pxi\u001b[0m in \u001b[0;36mpandas._libs.hashtable.PyObjectHashTable.get_item\u001b[0;34m()\u001b[0m\n",
      "\u001b[0;31mKeyError\u001b[0m: 'aa'",
      "\nThe above exception was the direct cause of the following exception:\n",
      "\u001b[0;31mKeyError\u001b[0m                                  Traceback (most recent call last)",
      "\u001b[0;32m<ipython-input-56-5a6b893f3f64>\u001b[0m in \u001b[0;36m<module>\u001b[0;34m\u001b[0m\n\u001b[1;32m      1\u001b[0m \u001b[0;31m# 眞井洋と眞井翔の列をpick up\u001b[0m\u001b[0;34m\u001b[0m\u001b[0;34m\u001b[0m\u001b[0;34m\u001b[0m\u001b[0m\n\u001b[0;32m----> 2\u001b[0;31m \u001b[0mMaiY\u001b[0m \u001b[0;34m=\u001b[0m \u001b[0mschedule\u001b[0m\u001b[0;34m[\u001b[0m\u001b[0;34m\"aa\"\u001b[0m\u001b[0;34m]\u001b[0m\u001b[0;34m\u001b[0m\u001b[0;34m\u001b[0m\u001b[0m\n\u001b[0m",
      "\u001b[0;32m~/opt/anaconda3/lib/python3.8/site-packages/pandas/core/frame.py\u001b[0m in \u001b[0;36m__getitem__\u001b[0;34m(self, key)\u001b[0m\n\u001b[1;32m   3022\u001b[0m             \u001b[0;32mif\u001b[0m \u001b[0mself\u001b[0m\u001b[0;34m.\u001b[0m\u001b[0mcolumns\u001b[0m\u001b[0;34m.\u001b[0m\u001b[0mnlevels\u001b[0m \u001b[0;34m>\u001b[0m \u001b[0;36m1\u001b[0m\u001b[0;34m:\u001b[0m\u001b[0;34m\u001b[0m\u001b[0;34m\u001b[0m\u001b[0m\n\u001b[1;32m   3023\u001b[0m                 \u001b[0;32mreturn\u001b[0m \u001b[0mself\u001b[0m\u001b[0;34m.\u001b[0m\u001b[0m_getitem_multilevel\u001b[0m\u001b[0;34m(\u001b[0m\u001b[0mkey\u001b[0m\u001b[0;34m)\u001b[0m\u001b[0;34m\u001b[0m\u001b[0;34m\u001b[0m\u001b[0m\n\u001b[0;32m-> 3024\u001b[0;31m             \u001b[0mindexer\u001b[0m \u001b[0;34m=\u001b[0m \u001b[0mself\u001b[0m\u001b[0;34m.\u001b[0m\u001b[0mcolumns\u001b[0m\u001b[0;34m.\u001b[0m\u001b[0mget_loc\u001b[0m\u001b[0;34m(\u001b[0m\u001b[0mkey\u001b[0m\u001b[0;34m)\u001b[0m\u001b[0;34m\u001b[0m\u001b[0;34m\u001b[0m\u001b[0m\n\u001b[0m\u001b[1;32m   3025\u001b[0m             \u001b[0;32mif\u001b[0m \u001b[0mis_integer\u001b[0m\u001b[0;34m(\u001b[0m\u001b[0mindexer\u001b[0m\u001b[0;34m)\u001b[0m\u001b[0;34m:\u001b[0m\u001b[0;34m\u001b[0m\u001b[0;34m\u001b[0m\u001b[0m\n\u001b[1;32m   3026\u001b[0m                 \u001b[0mindexer\u001b[0m \u001b[0;34m=\u001b[0m \u001b[0;34m[\u001b[0m\u001b[0mindexer\u001b[0m\u001b[0;34m]\u001b[0m\u001b[0;34m\u001b[0m\u001b[0;34m\u001b[0m\u001b[0m\n",
      "\u001b[0;32m~/opt/anaconda3/lib/python3.8/site-packages/pandas/core/indexes/base.py\u001b[0m in \u001b[0;36mget_loc\u001b[0;34m(self, key, method, tolerance)\u001b[0m\n\u001b[1;32m   3080\u001b[0m                 \u001b[0;32mreturn\u001b[0m \u001b[0mself\u001b[0m\u001b[0;34m.\u001b[0m\u001b[0m_engine\u001b[0m\u001b[0;34m.\u001b[0m\u001b[0mget_loc\u001b[0m\u001b[0;34m(\u001b[0m\u001b[0mcasted_key\u001b[0m\u001b[0;34m)\u001b[0m\u001b[0;34m\u001b[0m\u001b[0;34m\u001b[0m\u001b[0m\n\u001b[1;32m   3081\u001b[0m             \u001b[0;32mexcept\u001b[0m \u001b[0mKeyError\u001b[0m \u001b[0;32mas\u001b[0m \u001b[0merr\u001b[0m\u001b[0;34m:\u001b[0m\u001b[0;34m\u001b[0m\u001b[0;34m\u001b[0m\u001b[0m\n\u001b[0;32m-> 3082\u001b[0;31m                 \u001b[0;32mraise\u001b[0m \u001b[0mKeyError\u001b[0m\u001b[0;34m(\u001b[0m\u001b[0mkey\u001b[0m\u001b[0;34m)\u001b[0m \u001b[0;32mfrom\u001b[0m \u001b[0merr\u001b[0m\u001b[0;34m\u001b[0m\u001b[0;34m\u001b[0m\u001b[0m\n\u001b[0m\u001b[1;32m   3083\u001b[0m \u001b[0;34m\u001b[0m\u001b[0m\n\u001b[1;32m   3084\u001b[0m         \u001b[0;32mif\u001b[0m \u001b[0mtolerance\u001b[0m \u001b[0;32mis\u001b[0m \u001b[0;32mnot\u001b[0m \u001b[0;32mNone\u001b[0m\u001b[0;34m:\u001b[0m\u001b[0;34m\u001b[0m\u001b[0;34m\u001b[0m\u001b[0m\n",
      "\u001b[0;31mKeyError\u001b[0m: 'aa'"
     ]
    }
   ],
   "source": [
    "# 眞井洋と眞井翔の列をpick up\n",
    "MaiY = schedule[\"aa\"]"
   ]
  },
  {
   "cell_type": "code",
   "execution_count": 53,
   "id": "flush-vienna",
   "metadata": {},
   "outputs": [],
   "source": [
    "\n",
    "schedule.to_csv('output.csv')"
   ]
  },
  {
   "cell_type": "code",
   "execution_count": null,
   "id": "pending-latter",
   "metadata": {},
   "outputs": [],
   "source": []
  }
 ],
 "metadata": {
  "kernelspec": {
   "display_name": "Python 3",
   "language": "python",
   "name": "python3"
  },
  "language_info": {
   "codemirror_mode": {
    "name": "ipython",
    "version": 3
   },
   "file_extension": ".py",
   "mimetype": "text/x-python",
   "name": "python",
   "nbconvert_exporter": "python",
   "pygments_lexer": "ipython3",
   "version": "3.8.5"
  }
 },
 "nbformat": 4,
 "nbformat_minor": 5
}
